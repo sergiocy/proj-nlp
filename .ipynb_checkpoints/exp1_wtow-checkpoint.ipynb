{
 "cells": [
  {
   "cell_type": "code",
   "execution_count": 1,
   "metadata": {},
   "outputs": [
    {
     "ename": "ModuleNotFoundError",
     "evalue": "No module named 'app.lib.py'",
     "output_type": "error",
     "traceback": [
      "\u001b[0;31m---------------------------------------------------------------------------\u001b[0m",
      "\u001b[0;31mModuleNotFoundError\u001b[0m                       Traceback (most recent call last)",
      "\u001b[0;32m<ipython-input-1-c47aa052cc1b>\u001b[0m in \u001b[0;36m<module>\u001b[0;34m\u001b[0m\n\u001b[1;32m     10\u001b[0m \u001b[0;31m#import tensorflow_hub as hub\u001b[0m\u001b[0;34m\u001b[0m\u001b[0;34m\u001b[0m\u001b[0;34m\u001b[0m\u001b[0m\n\u001b[1;32m     11\u001b[0m \u001b[0;34m\u001b[0m\u001b[0m\n\u001b[0;32m---> 12\u001b[0;31m \u001b[0;32mfrom\u001b[0m \u001b[0mapp\u001b[0m\u001b[0;34m.\u001b[0m\u001b[0mlib\u001b[0m\u001b[0;34m.\u001b[0m\u001b[0mpy\u001b[0m\u001b[0;34m.\u001b[0m\u001b[0mlogging\u001b[0m\u001b[0;34m.\u001b[0m\u001b[0mcreate_logger\u001b[0m \u001b[0;32mimport\u001b[0m \u001b[0mcreate_logger\u001b[0m\u001b[0;34m\u001b[0m\u001b[0;34m\u001b[0m\u001b[0m\n\u001b[0m\u001b[1;32m     13\u001b[0m \u001b[0;34m\u001b[0m\u001b[0m\n\u001b[1;32m     14\u001b[0m \u001b[0;32mfrom\u001b[0m \u001b[0mapp\u001b[0m\u001b[0;34m.\u001b[0m\u001b[0mcontroller\u001b[0m\u001b[0;34m.\u001b[0m\u001b[0mreader\u001b[0m\u001b[0;34m.\u001b[0m\u001b[0mload_input_text_csv\u001b[0m \u001b[0;32mimport\u001b[0m \u001b[0mload_input_text_csv\u001b[0m\u001b[0;34m\u001b[0m\u001b[0;34m\u001b[0m\u001b[0m\n",
      "\u001b[0;31mModuleNotFoundError\u001b[0m: No module named 'app.lib.py'"
     ]
    }
   ],
   "source": [
    "import logging\n",
    "import os\n",
    "import time\n",
    "import numpy as np\n",
    "import pandas as pd\n",
    "\n",
    "#import tensorflow as tf\n",
    "#import tensorflow_hub as hub\n",
    "\n",
    "from app.lib.py.logging.create_logger import create_logger\n",
    "\n",
    "from app.controller.reader.load_input_text_csv import load_input_text_csv\n",
    "from app.controller.generator.get_embedding_as_df import get_embedding_as_df\n",
    "from app.controller.api import run_pipeline\n",
    "from app.controller.operator.reorder_sentence_words_csv import reorder_sentence_words_csv"
   ]
  },
  {
   "cell_type": "code",
   "execution_count": null,
   "metadata": {},
   "outputs": [],
   "source": [
    "\n",
    "####\n",
    "#### CSV FILES - DATA INPUT\n",
    "PATH_LOG_FILE = 'log/log.log'\n",
    "PATH_W2V_MODEL = '../00model/w2v/GoogleNews-vectors-negative300.bin'\n",
    "PATH_INPUT_DATA = '../00data/input/wordsim353/combined.csv'\n",
    "#PATH_INPUT_DATA_DEF = '../../00data/input/wordsim353/combined-definitions.csv'\n",
    "PATH_INPUT_DATA_DEF = '../00data/input/wordsim353/combined-definitions-context.csv'\n",
    "PATH_INPUT_DATA_DEF_WN = '../00data/input/wordsim353/corpus_men_definitions_csv.csv'\n",
    "PATH_INPUT_SIM_SCORES = '../00data/input/wordsim353/combined.csv'\n",
    "\n",
    "\n",
    "####\n",
    "#### PICKLE FILES - DATASETS PROCESSED - CHECKPOINTS PATHS...\n",
    "PATH_CHECKPOINT_INPUT = 'data/exchange/ws353_input'\n",
    "PATH_CHECKPOINT_INPUT_WORDNET = 'data/exchange/ws353_input_men_wordnet'\n",
    "PATH_CHECKPOINT_INPUT_SIM = 'data/exchange/ws353_input_sim'\n",
    "\n",
    "PATH_CHECKPOINT_BERT_WORDS = 'data/exchange/ws353_bert_words'\n",
    "PATH_CHECKPOINT_BERT_WORDS_CONTEXT = 'data/exchange/ws353_bert_words_context'\n",
    "PATH_CHECKPOINT_BERT_WORDS_DEF_DICT = 'data/exchange/ws353_bert_def_cambridge'\n",
    "PATH_CHECKPOINT_BERT_WORDS_DEF_WN = 'data/exchange/ws353_bert_def_wn'\n",
    "\n",
    "PATH_CHECKPOINT_W2V_WORDS = 'data/exchange/ws353_w2v_words'\n",
    "PATH_CHECKPOINT_W2V_WORDS_CONTEXT = 'data/exchange/ws353_w2v_words_context'\n",
    "PATH_CHECKPOINT_W2V_WORDS_DEF_DICT = 'data/exchange/ws353_w2v_def_cambridge'\n",
    "\n",
    "\n",
    "####\n",
    "#### DATA OUTPUT\n",
    "PATH_OUTPUT_BERT_DATA_DEF = 'data/output/combined-definitions'\n",
    "PATH_OUTPUT_BERT_DATA_COMPLETE = 'data/output/combined-definitions-complete'\n",
    "PATH_OUTPUT_BERT_WORD_VS_DEF_1 = 'data/output/word_vs_def_1'\n",
    "PATH_OUTPUT_BERT_WORD_VS_DEF_2 = 'data/output/word_vs_def_2'\n",
    "\n",
    "\n",
    "\n",
    "CONFIG_PIPE_FILE_TEST = 'config/pipeline/config_pipe_test.ini'"
   ]
  },
  {
   "cell_type": "code",
   "execution_count": null,
   "metadata": {},
   "outputs": [],
   "source": []
  },
  {
   "cell_type": "code",
   "execution_count": null,
   "metadata": {},
   "outputs": [],
   "source": []
  },
  {
   "cell_type": "code",
   "execution_count": 4,
   "metadata": {},
   "outputs": [
    {
     "name": "stdout",
     "output_type": "stream",
     "text": [
      "hello\n"
     ]
    }
   ],
   "source": [
    "print('hello')"
   ]
  },
  {
   "cell_type": "code",
   "execution_count": null,
   "metadata": {},
   "outputs": [],
   "source": [
    "def compute_embeddings():\n",
    "    \n",
    "    #################################################\n",
    "    #### COMPUTING BERT-VECTORS OF WORDS-DEFINITION FROM WORDNET\n",
    "    data_def = load_input_text_csv(logger = logger\n",
    "                            , new_colnames = ['w1', 'w2', 'score']\n",
    "                            , file_input = PATH_INPUT_SIM_SCORES\n",
    "                            , has_header = True\n",
    "                            , sep = ','\n",
    "                            , encoding = 'utf-8'\n",
    "                            , has_complete_rows = True\n",
    "                            , cols_to_clean = ['w1', 'w2']\n",
    "                            , language = 'en'\n",
    "                            , lcase = True\n",
    "                            , lst_punct_to_del = ['\\.', ',', '\\(', '\\)', ':', ';', '\\?', '!', '\"', '`']\n",
    "                            , tokenized_text = False\n",
    "                            , logging_tokens_cleaning = False\n",
    "                            , insert_id_column = False\n",
    "                            #, inserted_id_column_name = 'id0'\n",
    "                            , file_save_pickle = PATH_CHECKPOINT_INPUT_SIM)\n",
    "    #### ...we add id for each row...\n",
    "    logger.info(' - pandas dataframe cleaned; first rows...')\n",
    "    logger.info('\\n{0}'.format(data_def.loc[0:4]))\n",
    "    #data_def = pd.read_pickle(PATH_CHECKPOINT_INPUT_WORDNET)"
   ]
  }
 ],
 "metadata": {
  "kernelspec": {
   "display_name": "Python 3",
   "language": "python",
   "name": "python3"
  },
  "language_info": {
   "codemirror_mode": {
    "name": "ipython",
    "version": 3
   },
   "file_extension": ".py",
   "mimetype": "text/x-python",
   "name": "python",
   "nbconvert_exporter": "python",
   "pygments_lexer": "ipython3",
   "version": "3.6.8"
  }
 },
 "nbformat": 4,
 "nbformat_minor": 4
}
